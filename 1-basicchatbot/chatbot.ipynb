{
 "cells": [
  {
   "cell_type": "markdown",
   "id": "0647c379",
   "metadata": {},
   "source": [
    "Building a Basic Chatbot"
   ]
  },
  {
   "cell_type": "code",
   "execution_count": 1,
   "id": "21614ebc",
   "metadata": {},
   "outputs": [
    {
     "name": "stdout",
     "output_type": "stream",
     "text": [
      "Hello, World!\n"
     ]
    }
   ],
   "source": [
    "print(\"Hello, World!\")"
   ]
  },
  {
   "cell_type": "code",
   "execution_count": 3,
   "id": "3f846f81",
   "metadata": {},
   "outputs": [],
   "source": [
    "from  typing import Annotated\n",
    "from typing_extensions import TypedDict\n",
    "from langgraph.graph import StateGraph,START, END\n",
    "from langgraph.graph.message import add_messages"
   ]
  },
  {
   "cell_type": "code",
   "execution_count": 4,
   "id": "1896f640",
   "metadata": {},
   "outputs": [],
   "source": [
    "class State(TypedDict):\n",
    "    messages:Annotated[list,add_messages]\n",
    "\n",
    "graphbuilder=StateGraph(State)"
   ]
  },
  {
   "cell_type": "code",
   "execution_count": 5,
   "id": "f8da5984",
   "metadata": {},
   "outputs": [
    {
     "data": {
      "text/plain": [
       "<langgraph.graph.state.StateGraph at 0x1b02188b1d0>"
      ]
     },
     "execution_count": 5,
     "metadata": {},
     "output_type": "execute_result"
    }
   ],
   "source": [
    "graphbuilder"
   ]
  },
  {
   "cell_type": "code",
   "execution_count": 6,
   "id": "457297a9",
   "metadata": {},
   "outputs": [
    {
     "data": {
      "text/plain": [
       "True"
      ]
     },
     "execution_count": 6,
     "metadata": {},
     "output_type": "execute_result"
    }
   ],
   "source": [
    "import os\n",
    "from dotenv import load_dotenv\n",
    "load_dotenv()"
   ]
  },
  {
   "cell_type": "code",
   "execution_count": 7,
   "id": "4093677f",
   "metadata": {},
   "outputs": [],
   "source": [
    "from langchain_groq import ChatGroq\n",
    "\n",
    "llm = ChatGroq(model=\"llama3-8b-8192\")\n"
   ]
  },
  {
   "cell_type": "code",
   "execution_count": 8,
   "id": "7ce245ea",
   "metadata": {},
   "outputs": [],
   "source": [
    "## Node Functionality\n",
    "def chatbot(state:State):\n",
    "    return {\"messages\":[llm.invoke(state[\"messages\"])]}"
   ]
  },
  {
   "cell_type": "code",
   "execution_count": 9,
   "id": "658d64fb",
   "metadata": {},
   "outputs": [],
   "source": [
    "graph_builder=StateGraph(State)\n",
    "\n",
    "## Adding node\n",
    "graph_builder.add_node(\"chatbot\",chatbot)\n",
    "## Adding Edges\n",
    "graph_builder.add_edge(START,\"chatbot\")\n",
    "graph_builder.add_edge(\"chatbot\",END)\n",
    "\n",
    "## compile the graph\n",
    "graph=graph_builder.compile()"
   ]
  },
  {
   "cell_type": "code",
   "execution_count": 10,
   "id": "61db62f2",
   "metadata": {},
   "outputs": [
    {
     "data": {
      "text/plain": [
       "'Hi! How are you doing today?'"
      ]
     },
     "execution_count": 10,
     "metadata": {},
     "output_type": "execute_result"
    }
   ],
   "source": [
    "response=graph.invoke({\"messages\":\"Hii\"})\n",
    "response[\"messages\"][-1].content"
   ]
  },
  {
   "cell_type": "code",
   "execution_count": 11,
   "id": "082b4481",
   "metadata": {},
   "outputs": [
    {
     "data": {
      "text/plain": [
       "{'query': 'What is LangGraph?',\n",
       " 'follow_up_questions': None,\n",
       " 'answer': None,\n",
       " 'images': [],\n",
       " 'results': [{'title': 'What is LangGraph? - IBM',\n",
       "   'url': 'https://www.ibm.com/think/topics/langgraph',\n",
       "   'content': 'LangGraph, created by LangChain, is an open source AI agent framework designed to build, deploy and manage complex generative AI agent workflows. At its core, LangGraph uses the power of graph-based architectures to model and manage the intricate relationships between various components of an AI agent workflow. LangGraph illuminates the processes within an AI workflow, allowing full transparency of the agent’s state. By combining these technologies with a set of APIs and tools, LangGraph provides users with a versatile platform for developing AI solutions and workflows including chatbots, state graphs and other agent-based systems. Nodes: In LangGraph, nodes represent individual components or agents within an AI workflow. LangGraph uses enhanced decision-making by modeling complex relationships between nodes, which means it uses AI agents to analyze their past actions and feedback.',\n",
       "   'score': 0.9554898,\n",
       "   'raw_content': None},\n",
       "  {'title': 'What is LangGraph? - GeeksforGeeks',\n",
       "   'url': 'https://www.geeksforgeeks.org/machine-learning/what-is-langgraph/',\n",
       "   'content': 'LangGraph is a Python library that helps you build applications like chatbots or AI agents by organizing their logic step-by-step using state machine model. This step configures your Gemini API key and then we create a simple function ask_gemini that takes user input, sends it to the Gemini model and returns the AI-generated response. Creates a state structure with three fields: question, classification and response which flows through the LangGraph. import matplotlib.pyplot as plt from langgraph.graph import StateGraph\\u200bbuilder = StateGraph(GraphState)builder.add_node(\"classify\", classify)builder.add_node(\"respond\", respond)builder.set_entry_point(\"classify\")builder.add_edge(\"classify\", \"respond\")builder.set_finish_point(\"respond\")app = builder.compile()\\u200bdef visualize_workflow(builder): G = nx.DiGraph()\\u200b for node in builder.nodes: G.add_node(node) for edge in builder.edges: G.add_edge(edge[0], edge[1])\\u200b pos = nx.spring_layout(G) nx.draw(G, pos, with_labels=True, node_size=3000, node_color=\"skyblue\", font_size=12, font_weight=\"bold\", arrows=True)  plt.title(\"Langchain Workflow Visualization\") plt.show()\\u200bvisualize_workflow(builder)',\n",
       "   'score': 0.92260116,\n",
       "   'raw_content': None}],\n",
       " 'response_time': 1.35}"
      ]
     },
     "execution_count": 11,
     "metadata": {},
     "output_type": "execute_result"
    }
   ],
   "source": [
    "from langchain_tavily import TavilySearch\n",
    "tool = TavilySearch(max_results=2)\n",
    "tool.invoke(\"What is LangGraph?\")"
   ]
  },
  {
   "cell_type": "code",
   "execution_count": 33,
   "id": "0be031d3",
   "metadata": {},
   "outputs": [],
   "source": [
    "def multiply(a:int,b:int)->int:\n",
    "    \"\"\"Mutliply two numbers\n",
    "    Args:\n",
    "        a (int): First number\n",
    "        b (int): Second number\n",
    "    Returns:\n",
    "        int: Product of a and b\n",
    "    \"\"\"\n",
    "    return a*b"
   ]
  },
  {
   "cell_type": "code",
   "execution_count": 35,
   "id": "1e853826",
   "metadata": {},
   "outputs": [],
   "source": [
    "tools=[tool,multiply]"
   ]
  },
  {
   "cell_type": "code",
   "execution_count": 36,
   "id": "f3f75f13",
   "metadata": {},
   "outputs": [],
   "source": [
    "llm_with_tools = llm.bind_tools(tools)"
   ]
  },
  {
   "cell_type": "code",
   "execution_count": 37,
   "id": "87e349ae",
   "metadata": {},
   "outputs": [
    {
     "data": {
      "text/plain": [
       "RunnableBinding(bound=ChatGroq(client=<groq.resources.chat.completions.Completions object at 0x000001B021AE6240>, async_client=<groq.resources.chat.completions.AsyncCompletions object at 0x000001B023157110>, model_name='llama3-8b-8192', model_kwargs={}, groq_api_key=SecretStr('**********')), kwargs={'tools': [{'type': 'function', 'function': {'name': 'tavily_search', 'description': 'A search engine optimized for comprehensive, accurate, and trusted results. Useful for when you need to answer questions about current events. It not only retrieves URLs and snippets, but offers advanced search depths, domain management, time range filters, and image search, this tool delivers real-time, accurate, and citation-backed results.Input should be a search query.', 'parameters': {'properties': {'query': {'description': 'Search query to look up', 'type': 'string'}, 'include_domains': {'anyOf': [{'items': {'type': 'string'}, 'type': 'array'}, {'type': 'null'}], 'default': [], 'description': 'A list of domains to restrict search results to.\\n\\n        Use this parameter when:\\n        1. The user explicitly requests information from specific websites (e.g., \"Find climate data from nasa.gov\")\\n        2. The user mentions an organization or company without specifying the domain (e.g., \"Find information about iPhones from Apple\")\\n\\n        In both cases, you should determine the appropriate domains (e.g., [\"nasa.gov\"] or [\"apple.com\"]) and set this parameter.\\n\\n        Results will ONLY come from the specified domains - no other sources will be included.\\n        Default is None (no domain restriction).\\n        '}, 'exclude_domains': {'anyOf': [{'items': {'type': 'string'}, 'type': 'array'}, {'type': 'null'}], 'default': [], 'description': 'A list of domains to exclude from search results.\\n\\n        Use this parameter when:\\n        1. The user explicitly requests to avoid certain websites (e.g., \"Find information about climate change but not from twitter.com\")\\n        2. The user mentions not wanting results from specific organizations without naming the domain (e.g., \"Find phone reviews but nothing from Apple\")\\n\\n        In both cases, you should determine the appropriate domains to exclude (e.g., [\"twitter.com\"] or [\"apple.com\"]) and set this parameter.\\n\\n        Results will filter out all content from the specified domains.\\n        Default is None (no domain exclusion).\\n        '}, 'search_depth': {'anyOf': [{'enum': ['basic', 'advanced'], 'type': 'string'}, {'type': 'null'}], 'default': 'basic', 'description': 'Controls search thoroughness and result comprehensiveness.\\n    \\n        Use \"basic\" for simple queries requiring quick, straightforward answers.\\n        \\n        Use \"advanced\" (default) for complex queries, specialized topics, \\n        rare information, or when in-depth analysis is needed.\\n        '}, 'include_images': {'anyOf': [{'type': 'boolean'}, {'type': 'null'}], 'default': False, 'description': 'Determines if the search returns relevant images along with text results.\\n   \\n        Set to True when the user explicitly requests visuals or when images would \\n        significantly enhance understanding (e.g., \"Show me what black holes look like,\" \\n        \"Find pictures of Renaissance art\").\\n        \\n        Leave as False (default) for most informational queries where text is sufficient.\\n        '}, 'time_range': {'anyOf': [{'enum': ['day', 'week', 'month', 'year'], 'type': 'string'}, {'type': 'null'}], 'default': None, 'description': 'Limits results to content published within a specific timeframe.\\n        \\n        ONLY set this when the user explicitly mentions a time period \\n        (e.g., \"latest AI news,\" \"articles from last week\").\\n        \\n        For less popular or niche topics, use broader time ranges \\n        (\"month\" or \"year\") to ensure sufficient relevant results.\\n   \\n        Options: \"day\" (24h), \"week\" (7d), \"month\" (30d), \"year\" (365d).\\n        \\n        Default is None.\\n        '}, 'topic': {'anyOf': [{'enum': ['general', 'news', 'finance'], 'type': 'string'}, {'type': 'null'}], 'default': 'general', 'description': 'Specifies search category for optimized results.\\n   \\n        Use \"general\" (default) for most queries, INCLUDING those with terms like \\n        \"latest,\" \"newest,\" or \"recent\" when referring to general information.\\n\\n        Use \"finance\" for markets, investments, economic data, or financial news.\\n\\n        Use \"news\" ONLY for politics, sports, or major current events covered by \\n        mainstream media - NOT simply because a query asks for \"new\" information.\\n        '}}, 'required': ['query'], 'type': 'object'}}}, {'type': 'function', 'function': {'name': 'multiply', 'description': 'Mutliply two numbers\\nArgs:\\n    a (int): First number\\n    b (int): Second number\\nReturns:\\n    int: Product of a and b', 'parameters': {'properties': {'a': {'type': 'integer'}, 'b': {'type': 'integer'}}, 'required': ['a', 'b'], 'type': 'object'}}}]}, config={}, config_factories=[])"
      ]
     },
     "execution_count": 37,
     "metadata": {},
     "output_type": "execute_result"
    }
   ],
   "source": [
    "llm_with_tools"
   ]
  },
  {
   "cell_type": "code",
   "execution_count": 38,
   "id": "5e5b61f7",
   "metadata": {},
   "outputs": [
    {
     "data": {
      "image/png": "[encoded data removed]",
      "text/plain": [
       "<langgraph.graph.state.CompiledStateGraph object at 0x000001B02364F560>"
      ]
     },
     "execution_count": 38,
     "metadata": {},
     "output_type": "execute_result"
    }
   ],
   "source": [
    "from langgraph.graph import StateGraph, START, END\n",
    "from langgraph.prebuilt import ToolNode,tools_condition\n",
    "\n",
    "builder=StateGraph(State)\n",
    "\n",
    "def llm_with_tools_function(state:State):\n",
    "    \"\"\"Function to invoke LLM with tools\"\"\"\n",
    "    return {\"messages\":[llm_with_tools.invoke(state[\"messages\"])]}\n",
    "\n",
    "builder.add_node(\"llm_with_tools\", llm_with_tools_function)\n",
    "builder.add_node(\"tools\", ToolNode(tools))\n",
    "\n",
    "builder.add_edge(START, \"llm_with_tools\")\n",
    "builder.add_conditional_edges(\"llm_with_tools\", tools_condition)\n",
    "builder.add_edge(\"tools\", END)\n",
    "\n",
    "graph_with_tools = builder.compile()\n",
    "graph_with_tools"
   ]
  },
  {
   "cell_type": "code",
   "execution_count": 39,
   "id": "8fa7ea3c",
   "metadata": {},
   "outputs": [],
   "source": [
    "response=graph_with_tools.invoke({\"messages\":\"What is recent ai news?\"})"
   ]
  },
  {
   "cell_type": "code",
   "execution_count": 41,
   "id": "f20a00c5",
   "metadata": {},
   "outputs": [
    {
     "name": "stdout",
     "output_type": "stream",
     "text": [
      "================================\u001b[1m Human Message \u001b[0m=================================\n",
      "\n",
      "What is recent ai news?\n",
      "==================================\u001b[1m Ai Message \u001b[0m==================================\n",
      "Tool Calls:\n",
      "  tavily_search (18g6dpgez)\n",
      " Call ID: 18g6dpgez\n",
      "  Args:\n",
      "    query: recent ai news\n",
      "    search_depth: advanced\n",
      "    time_range: day\n",
      "    topic: news\n",
      "=================================\u001b[1m Tool Message \u001b[0m=================================\n",
      "Name: tavily_search\n",
      "\n",
      "{\"query\": \"recent ai news\", \"follow_up_questions\": null, \"answer\": null, \"images\": [], \"results\": [{\"url\": \"https://techcrunch.com/2025/06/20/mira-muratis-thinking-machines-lab-closes-on-2b-at-10b-valuation/\", \"title\": \"Mira Murati’s Thinking Machines Lab closes on $2B at $10B valuation - TechCrunch\", \"score\": 0.6972179, \"published_date\": \"Fri, 20 Jun 2025 21:59:33 GMT\", \"content\": \"Enterprise \\n### Workhelix taps years of research to help enterprises figure out where to apply AI\\n\\n       Rebecca Szkutak\\n\\n Feb 27, 2025\\n\\nLatest in AI\\n------------\\n\\nSee More\\n\\n   \\nImage 9\\n\\nIn Brief \\n### Mira Murati’s Thinking Machines Lab closes on $2B at $10B valuation\\n\\n       Rebecca Bellan\\n\\n 11 seconds ago\\n\\n   \\nImage 10: Cluely founder Roy Lee party invitation video\\n\\nAI \\n### Cluely, a startup that helps ‘cheat on everything,’ raises $15M from a16z\\n\\n       Marina Temkin\\n\\n 53 minutes ago\", \"raw_content\": null}, {\"url\": \"https://www.lightreading.com/ai-machine-learning/bt-and-vodafone-tech-bosses-troubled-by-dark-side-of-ai\", \"title\": \"BT and Vodafone tech bosses troubled by dark side of AI - Light Reading\", \"score\": 0.6501347, \"published_date\": \"Fri, 20 Jun 2025 11:21:04 GMT\", \"content\": \"AI & Machine Learning T-Mobile taps OpenAI to reduce customer churn 19/09/2024\\n\\n### Recommended for you\\n\\nAI & Machine Learning Image 22 sponsored Enterprise Networks Evolve From Basic Connectivity to Dynamic Experiences 29/04/2025\\n\\nAI & Machine Learning Orange is working on an AI network 'brain' to run 5G 18/03/2025\\n\\nAI & Machine Learning MWC visitor numbers are up again, but the industry is decaying 07/03/2025 [...] See more from Iain Morris\\n\\nSubscribe and receive the latest news from the industry.\\n\\nJoin 62,000+ members. Yes it's completely free.\\n\\nSign me up\\n\\nYou May Also Like\\n\\n  \\n\\nAI & Machine Learning sponsored Enterprise Networks Evolve From Basic Connectivity to Dynamic Experiences 29/04/2025\\n\\nAI & Machine Learning Orange is working on an AI network 'brain' to run 5G 18/03/2025\\n\\nAI & Machine Learning Dell goes big on Nvidia but lauds Intel in new telecom pitch 25/09/2024 [...] #### Related Topics\\n\\n   AI & Machine Learning\\n   Network Automation\\n   Security\\n\\n   Cloud\\n   Virtualization\\n   Customer Experience\\n\\n#### Recent inDigital Transformation\\n\\nSee all\\n\\nIcon of graphic interface showing computer, machine thinking and AIImage 13AI & Machine Learning\\n\\nBT and Vodafone tech bosses troubled by dark side of AIBT and Vodafone tech bosses troubled by dark side of AI\\n\\nbyIain Morris\\n\\nJun 20, 2025\\n\\n6 Min Read\\n\\nthumbnailImage 14AI & Machine Learning\", \"raw_content\": null}], \"response_time\": 1.44}\n"
     ]
    }
   ],
   "source": [
    "for m in response[\"messages\"]:\n",
    "    m.pretty_print()\n"
   ]
  },
  {
   "cell_type": "code",
   "execution_count": 42,
   "id": "19c26939",
   "metadata": {},
   "outputs": [],
   "source": [
    "response1=graph_with_tools.invoke({\"messages\":\"What is 2 multiply 3?\"})"
   ]
  },
  {
   "cell_type": "code",
   "execution_count": 43,
   "id": "7c775bab",
   "metadata": {},
   "outputs": [
    {
     "name": "stdout",
     "output_type": "stream",
     "text": [
      "================================\u001b[1m Human Message \u001b[0m=================================\n",
      "\n",
      "What is 2 multiply 3?\n",
      "==================================\u001b[1m Ai Message \u001b[0m==================================\n",
      "Tool Calls:\n",
      "  multiply (3rs9kad56)\n",
      " Call ID: 3rs9kad56\n",
      "  Args:\n",
      "    a: 2\n",
      "    b: 3\n",
      "=================================\u001b[1m Tool Message \u001b[0m=================================\n",
      "Name: multiply\n",
      "\n",
      "6\n"
     ]
    }
   ],
   "source": [
    "for m in response1[\"messages\"]:\n",
    "    m.pretty_print()"
   ]
  },
  {
   "cell_type": "code",
   "execution_count": 46,
   "id": "5ddc8fbb",
   "metadata": {},
   "outputs": [],
   "source": [
    "response2=graph_with_tools.invoke({\"messages\":\"What is 2 multiply 3 and then multiply by 10?\"})"
   ]
  },
  {
   "cell_type": "code",
   "execution_count": 47,
   "id": "6fe5f272",
   "metadata": {},
   "outputs": [
    {
     "name": "stdout",
     "output_type": "stream",
     "text": [
      "================================\u001b[1m Human Message \u001b[0m=================================\n",
      "\n",
      "What is 2 multiply 3 and then multiply by 10?\n",
      "==================================\u001b[1m Ai Message \u001b[0m==================================\n",
      "Tool Calls:\n",
      "  multiply (tdkant88z)\n",
      " Call ID: tdkant88z\n",
      "  Args:\n",
      "    a: 2\n",
      "    b: 3\n",
      "  multiply (xgd7ac4wq)\n",
      " Call ID: xgd7ac4wq\n",
      "  Args:\n",
      "    a: 6\n",
      "    b: 10\n",
      "=================================\u001b[1m Tool Message \u001b[0m=================================\n",
      "Name: multiply\n",
      "\n",
      "6\n",
      "=================================\u001b[1m Tool Message \u001b[0m=================================\n",
      "Name: multiply\n",
      "\n",
      "60\n"
     ]
    }
   ],
   "source": [
    "for m in response2[\"messages\"]:\n",
    "    m.pretty_print()"
   ]
  },
  {
   "cell_type": "code",
   "execution_count": 58,
   "id": "efaf2699",
   "metadata": {},
   "outputs": [],
   "source": [
    "respone3=graph_with_tools.invoke({\"messages\":\"What is 2 multiply 3 and then multiply by 10 and then  What is recent ai news?\"})"
   ]
  },
  {
   "cell_type": "code",
   "execution_count": 59,
   "id": "c891308b",
   "metadata": {},
   "outputs": [
    {
     "name": "stdout",
     "output_type": "stream",
     "text": [
      "================================\u001b[1m Human Message \u001b[0m=================================\n",
      "\n",
      "What is 2 multiply 3 and then multiply by 10 and then  What is recent ai news?\n",
      "==================================\u001b[1m Ai Message \u001b[0m==================================\n",
      "Tool Calls:\n",
      "  multiply (0s0xkwfxp)\n",
      " Call ID: 0s0xkwfxp\n",
      "  Args:\n",
      "    a: 2\n",
      "    b: 3\n",
      "  multiply (a3rqjbpa4)\n",
      " Call ID: a3rqjbpa4\n",
      "  Args:\n",
      "    a: 15\n",
      "    b: 10\n",
      "  tavily_search (7jd6sgypx)\n",
      " Call ID: 7jd6sgypx\n",
      "  Args:\n",
      "    query: recent ai news\n",
      "=================================\u001b[1m Tool Message \u001b[0m=================================\n",
      "Name: multiply\n",
      "\n",
      "6\n",
      "=================================\u001b[1m Tool Message \u001b[0m=================================\n",
      "Name: multiply\n",
      "\n",
      "150\n",
      "=================================\u001b[1m Tool Message \u001b[0m=================================\n",
      "Name: tavily_search\n",
      "\n",
      "{\"query\": \"recent ai news\", \"follow_up_questions\": null, \"answer\": null, \"images\": [], \"results\": [{\"title\": \"AI News | Latest Headlines and Developments | Reuters\", \"url\": \"https://www.reuters.com/technology/artificial-intelligence/\", \"content\": \"How Artificial Intelligence is creating the next normal. Information you can trust. Reuters, the news and media division of Thomson Reuters, is the world's largest multimedia news provider\", \"score\": 0.59033114, \"raw_content\": null}, {\"title\": \"AI News & Artificial Intelligence | TechCrunch\", \"url\": \"https://techcrunch.com/category/artificial-intelligence/\", \"content\": \"News coverage on artificial intelligence and machine learning tech, the companies building them, and the ethical issues AI raises today. This encompasses generative AI, including large language\", \"score\": 0.5450684, \"raw_content\": null}], \"response_time\": 1.78}\n",
      "==================================\u001b[1m Ai Message \u001b[0m==================================\n",
      "\n",
      "<tool-use>{\"tool_calls\":[]}</tool-use>\n"
     ]
    }
   ],
   "source": [
    "for m in respone3[\"messages\"]:\n",
    "    m.pretty_print()"
   ]
  },
  {
   "cell_type": "code",
   "execution_count": null,
   "id": "e698e969",
   "metadata": {},
   "outputs": [
    {
     "data": {
      "image/png": "[encoded data removed]",
      "text/plain": [
       "<langgraph.graph.state.CompiledStateGraph object at 0x000001B023199190>"
      ]
     },
     "execution_count": 52,
     "metadata": {},
     "output_type": "execute_result"
    }
   ],
   "source": [
    "#REACT # with tools\n",
    "from langgraph.graph import StateGraph, START, END\n",
    "from langgraph.prebuilt import ToolNode,tools_condition\n",
    "\n",
    "builder=StateGraph(State)\n",
    "\n",
    "def llm_with_tools_function(state:State):\n",
    "    \"\"\"Function to invoke LLM with tools\"\"\"\n",
    "    return {\"messages\":[llm_with_tools.invoke(state[\"messages\"])]}\n",
    "\n",
    "builder.add_node(\"llm_with_tools\", llm_with_tools_function)\n",
    "builder.add_node(\"tools\", ToolNode(tools))\n",
    "\n",
    "builder.add_edge(START, \"llm_with_tools\")\n",
    "builder.add_conditional_edges(\"llm_with_tools\", tools_condition)\n",
    "builder.add_edge(\"tools\", \"llm_with_tools\")\n",
    "builder.add_edge(\"llm_with_tools\", END)\n",
    "\n",
    "graph_with_tools = builder.compile()\n",
    "graph_with_tools"
   ]
  },
  {
   "cell_type": "code",
   "execution_count": 62,
   "id": "eb00aaea",
   "metadata": {},
   "outputs": [],
   "source": [
    "response=graph_with_tools.invoke({\"messages\":\"What is 2 multiply 3 and then What is recent ai news?\"})"
   ]
  },
  {
   "cell_type": "code",
   "execution_count": 63,
   "id": "500cb11c",
   "metadata": {},
   "outputs": [
    {
     "name": "stdout",
     "output_type": "stream",
     "text": [
      "================================\u001b[1m Human Message \u001b[0m=================================\n",
      "\n",
      "What is 2 multiply 3 and then  What is recent ai news?\n",
      "==================================\u001b[1m Ai Message \u001b[0m==================================\n",
      "Tool Calls:\n",
      "  multiply (m15nyacvw)\n",
      " Call ID: m15nyacvw\n",
      "  Args:\n",
      "    a: 2\n",
      "    b: 3\n",
      "  tavily_search (bvhxjenqs)\n",
      " Call ID: bvhxjenqs\n",
      "  Args:\n",
      "    query: recent ai news\n",
      "=================================\u001b[1m Tool Message \u001b[0m=================================\n",
      "Name: multiply\n",
      "\n",
      "6\n",
      "=================================\u001b[1m Tool Message \u001b[0m=================================\n",
      "Name: tavily_search\n",
      "\n",
      "{\"query\": \"recent ai news\", \"follow_up_questions\": null, \"answer\": null, \"images\": [], \"results\": [{\"title\": \"AI News | Latest Headlines and Developments | Reuters\", \"url\": \"https://www.reuters.com/technology/artificial-intelligence/\", \"content\": \"How Artificial Intelligence is creating the next normal. Information you can trust. Reuters, the news and media division of Thomson Reuters, is the world's largest multimedia news provider\", \"score\": 0.59033114, \"raw_content\": null}, {\"title\": \"AI News & Artificial Intelligence | TechCrunch\", \"url\": \"https://techcrunch.com/category/artificial-intelligence/\", \"content\": \"News coverage on artificial intelligence and machine learning tech, the companies building them, and the ethical issues AI raises today. This encompasses generative AI, including large language\", \"score\": 0.5450684, \"raw_content\": null}], \"response_time\": 1.46}\n",
      "==================================\u001b[1m Ai Message \u001b[0m==================================\n",
      "Tool Calls:\n",
      "  tavily_search (7q3bpr78m)\n",
      " Call ID: 7q3bpr78m\n",
      "  Args:\n",
      "    query: AI News | Latest Headlines and Developments | Reuters\n",
      "=================================\u001b[1m Tool Message \u001b[0m=================================\n",
      "Name: tavily_search\n",
      "\n",
      "{\"query\": \"AI News | Latest Headlines and Developments | Reuters\", \"follow_up_questions\": null, \"answer\": null, \"images\": [], \"results\": [{\"title\": \"AI News | Latest Headlines and Developments | Reuters\", \"url\": \"https://www.reuters.com/technology/artificial-intelligence/\", \"content\": \"Reuters, the news and media division of Thomson Reuters, is the world's largest multimedia news provider, reaching billions of people worldwide every day. Reuters provides business, financial\", \"score\": 0.8088086, \"raw_content\": null}, {\"title\": \"AI News | Latest AI News, Analysis & Events\", \"url\": \"https://www.artificialintelligence-news.com/\", \"content\": \"AI News reports on the latest artificial intelligence news and insights. Explore industry trends from the frontline of AI.\", \"score\": 0.6320719, \"raw_content\": null}], \"response_time\": 2.17}\n",
      "==================================\u001b[1m Ai Message \u001b[0m==================================\n",
      "Tool Calls:\n",
      "  tavily_search (65269z4b5)\n",
      " Call ID: 65269z4b5\n",
      "  Args:\n",
      "    query: How Artificial Intelligence is creating the next normal. Information you can trust. Reuters, the news and media division of Thomson Reuters, is the world's largest multimedia news provider\n",
      "=================================\u001b[1m Tool Message \u001b[0m=================================\n",
      "Name: tavily_search\n",
      "\n",
      "{\"query\": \"How Artificial Intelligence is creating the next normal. Information you can trust. Reuters, the news and media division of Thomson Reuters, is the world's largest multimedia news provider\", \"follow_up_questions\": null, \"answer\": null, \"images\": [], \"results\": [{\"title\": \"How Artificial Intelligence Is Transforming Our World\", \"url\": \"https://www.sciencenewstoday.org/how-artificial-intelligence-is-transforming-our-world\", \"content\": \"Muhammad Tuhin April 25, 2025 June 8, 2025. A quiet revolution is unfolding all around us. It does not roar with the engines of industry or echo through towering steel, but hums in the circuits of algorithms, silently reshaping the world. ... The quest to create artificial intelligence is ancient, rooted in mythology, philosophy, and the age\", \"score\": 0.402745, \"raw_content\": null}, {\"title\": \"AI News | Latest Headlines and Developments | Reuters\", \"url\": \"https://www.reuters.com/technology/artificial-intelligence/\", \"content\": \"Momentum AI London, opens new tab  *   Business category·June 18, 2025 Meta in talks to hire former GitHub CEO Nat Friedman to join AI efforts, The Information reports  Microsoft is planning to cut thousands of jobs, particularly in sales, as the tech giant streamlines its workforce amid increased investments in artificial intelligence, Bloomberg News reported on Wednesday, citing people familiar with the matter. Oracle said on Tuesday that its cloud computing division is working with Elon Musk's artificial intelligence firm xAI to offer the startup's latest AI model to business customers. *   About Reuters, opens new tab *   Reuters News Agency, opens new tab *   Reuters and AI, opens new tab *   Reuters Diversity Report, opens new tab\", \"score\": 0.3991562, \"raw_content\": null}], \"response_time\": 2.07}\n",
      "==================================\u001b[1m Ai Message \u001b[0m==================================\n",
      "\n",
      "\"AI is quietly reshaping the world, transforming our lives with its silent hum of algorithms. From Meta's talks with Nat Friedman to join AI efforts to Microsoft's plans to cut thousands of jobs and Oracle's collaboration with xAI, the latest AI news is shaping the future. Read more to discover how artificial intelligence is creating the next normal.\"\n"
     ]
    }
   ],
   "source": [
    "for m in response[\"messages\"]:\n",
    "    m.pretty_print()"
   ]
  },
  {
   "cell_type": "code",
   "execution_count": 64,
   "id": "3ba8dd7f",
   "metadata": {},
   "outputs": [
    {
     "name": "stdout",
     "output_type": "stream",
     "text": [
      "================================\u001b[1m Human Message \u001b[0m=================================\n",
      "\n",
      "Hi My name is Sriraj\n",
      "==================================\u001b[1m Ai Message \u001b[0m==================================\n",
      "\n",
      "Nice to meet you, Sriraj!\n"
     ]
    }
   ],
   "source": [
    "response=graph_with_tools.invoke({\"messages\":\"Hi My name is Sriraj\"})\n",
    "for m in response[\"messages\"]:\n",
    "    m.pretty_print()"
   ]
  },
  {
   "cell_type": "code",
   "execution_count": 65,
   "id": "07044fc7",
   "metadata": {},
   "outputs": [
    {
     "name": "stdout",
     "output_type": "stream",
     "text": [
      "================================\u001b[1m Human Message \u001b[0m=================================\n",
      "\n",
      "What is my name?\n",
      "==================================\u001b[1m Ai Message \u001b[0m==================================\n",
      "Tool Calls:\n",
      "  multiply (0npdmvvns)\n",
      " Call ID: 0npdmvvns\n",
      "  Args:\n",
      "    a: 1\n",
      "    b: 0\n",
      "=================================\u001b[1m Tool Message \u001b[0m=================================\n",
      "Name: multiply\n",
      "\n",
      "0\n",
      "==================================\u001b[1m Ai Message \u001b[0m==================================\n",
      "Tool Calls:\n",
      "  tavily_search (n3wwy1pdj)\n",
      " Call ID: n3wwy1pdj\n",
      "  Args:\n",
      "    query: What is my name?\n",
      "=================================\u001b[1m Tool Message \u001b[0m=================================\n",
      "Name: tavily_search\n",
      "\n",
      "{\"query\": \"What is my name?\", \"follow_up_questions\": null, \"answer\": null, \"images\": [], \"results\": [{\"title\": \"What Does My Name Mean? The Meaning Of Names\", \"url\": \"https://www.names.org/\", \"content\": \"Names.org is a website that helps you discover the meaning, origin, popularity, and trends of your name. You can search by first name, last name, full name, or baby name, and explore various lists and categories of names.\", \"score\": 0.33125004, \"raw_content\": null}, {\"title\": \"How Rare is My Name? - How Many of Me\", \"url\": \"https://howmanyofme.name/how-rare-is-my-name/\", \"content\": \"How Rare is My Name? *   How Rare is My Name How Rare is My Name? How Rare is My Name ### **How Rare is My Name?** Very often last names like _Smith_, _Johnson_, or _Williams_ dominate the U.S., while rare surnames can hint at a unique family lineage or recent immigration. While your first or last name might be shared by thousands of people, the specific combination of both could make your full name rare in the U.S. Full-name analysis tools provide fascinating statistics on how many individuals share your exact name and offer insights into its uniqueness. ### **Why do People Have Rare Names?** Some people choose rare names because they want to be unique or stand out from the crowd.\", \"score\": 0.2046759, \"raw_content\": null}], \"response_time\": 1.47}\n",
      "==================================\u001b[1m Ai Message \u001b[0m==================================\n",
      "Tool Calls:\n",
      "  tavily_search (z11aan0ny)\n",
      " Call ID: z11aan0ny\n",
      "  Args:\n",
      "    exclude_domains: ['https://howmanyofme.name/']\n",
      "    include_domains: ['https://www.names.org/']\n",
      "    include_images: True\n",
      "    query: I want to know my name\n",
      "=================================\u001b[1m Tool Message \u001b[0m=================================\n",
      "Name: tavily_search\n",
      "\n",
      "{\"query\": \"I want to know my name\", \"follow_up_questions\": null, \"answer\": null, \"images\": [], \"results\": [{\"title\": \"Birthday Calculator - The Meaning of Names\", \"url\": \"https://www.names.org/birthdays/\", \"content\": \"What does my birthday say about me? What day of the week was I born? What important events happened on my birthday? Know all the facts about your birthday! Names.org. Advanced Search. popular; this year; by origin; all lists; ... Featured baby name list: Most Popular Serbian Baby Names. Featured First Names. 1.1m Jason 2.0m Daniel 107k Dan 4.9m\", \"score\": 0.2155657, \"raw_content\": null}, {\"title\": \"What Does My Name Mean? The Meaning Of Names\", \"url\": \"https://www.names.org/\", \"content\": \"Meaning & Origin Did you know that Matthew 1.6m means Gift of God? Find out if your name means beauty, hope, power, bravery, or something different. Learn the origin of your name: English, Hebrew, Spanish, German, or another origin.\", \"score\": 0.07570102, \"raw_content\": null}], \"response_time\": 5.66}\n",
      "==================================\u001b[1m Ai Message \u001b[0m==================================\n",
      "Tool Calls:\n",
      "  multiply (ymtqq1m8a)\n",
      " Call ID: ymtqq1m8a\n",
      "  Args:\n",
      "    a: 1\n",
      "    b: 1\n",
      "=================================\u001b[1m Tool Message \u001b[0m=================================\n",
      "Name: multiply\n",
      "\n",
      "1\n",
      "==================================\u001b[1m Ai Message \u001b[0m==================================\n",
      "\n",
      "I think we can conclude that your name is not explicitly mentioned in the search results. However, the results did provide some interesting information about birthdays and names. Let me try to summarize and provide a response.\n",
      "\n",
      "It seems that your name might have a special meaning or significance. According to the search results, names can have meanings and origins that are tied to various cultures and languages. If you're curious about the meaning of your name, you could try searching for it on Names.org, which provides information on the meaning, origin, and popularity of names.\n",
      "\n",
      "Additionally, the search results also mentioned that birthdays can have significance and even influence a person's personality or traits. If you're interested in learning more about your birthday and what it might say about you, you could try exploring the Birthday Calculator website.\n",
      "\n",
      "I hope this summary and suggestion are helpful!\n"
     ]
    }
   ],
   "source": [
    "response=graph_with_tools.invoke({\"messages\":\"What is my name?\"})\n",
    "for m in response[\"messages\"]:\n",
    "    m.pretty_print()"
   ]
  },
  {
   "cell_type": "code",
   "execution_count": 66,
   "id": "8ec4c489",
   "metadata": {},
   "outputs": [
    {
     "data": {
      "image/png": "[encoded data removed]",
      "text/plain": [
       "<langgraph.graph.state.CompiledStateGraph object at 0x000001B02188B440>"
      ]
     },
     "execution_count": 66,
     "metadata": {},
     "output_type": "execute_result"
    }
   ],
   "source": [
    "#REACT # with tools\n",
    "from langgraph.graph import StateGraph, START, END\n",
    "from langgraph.prebuilt import ToolNode,tools_condition\n",
    "from langgraph.checkpoint.memory import MemorySaver\n",
    "\n",
    "memory = MemorySaver()\n",
    "\n",
    "builder=StateGraph(State)\n",
    "\n",
    "def llm_with_tools_function(state:State):\n",
    "    \"\"\"Function to invoke LLM with tools\"\"\"\n",
    "    return {\"messages\":[llm_with_tools.invoke(state[\"messages\"])]}\n",
    "\n",
    "builder.add_node(\"llm_with_tools\", llm_with_tools_function)\n",
    "builder.add_node(\"tools\", ToolNode(tools))\n",
    "\n",
    "builder.add_edge(START, \"llm_with_tools\")\n",
    "builder.add_conditional_edges(\"llm_with_tools\", tools_condition)\n",
    "builder.add_edge(\"tools\", \"llm_with_tools\")\n",
    "builder.add_edge(\"llm_with_tools\", END)\n",
    "\n",
    "graph_with_tools = builder.compile(checkpointer=memory)\n",
    "graph_with_tools"
   ]
  },
  {
   "cell_type": "code",
   "execution_count": 69,
   "id": "fef253d7",
   "metadata": {},
   "outputs": [
    {
     "name": "stdout",
     "output_type": "stream",
     "text": [
      "================================\u001b[1m Human Message \u001b[0m=================================\n",
      "\n",
      "Hii my name is Sriraj?\n",
      "==================================\u001b[1m Ai Message \u001b[0m==================================\n",
      "\n",
      "Nice to meet you, Sriraj!\n"
     ]
    }
   ],
   "source": [
    "config={\"configurable\":{\"thread_id\":\"1\"}}\n",
    "response=graph_with_tools.invoke({\"messages\":\"Hii my name is Sriraj?\"},config=config)\n",
    "for m in response[\"messages\"]:\n",
    "    m.pretty_print()"
   ]
  },
  {
   "cell_type": "code",
   "execution_count": 71,
   "id": "9844ad85",
   "metadata": {},
   "outputs": [
    {
     "name": "stdout",
     "output_type": "stream",
     "text": [
      "Your name is Sriraj!\n"
     ]
    }
   ],
   "source": [
    "response=graph_with_tools.invoke({\"messages\":\"Hii what is my name?\"},config=config)\n",
    "print(response[\"messages\"][-1].content)"
   ]
  },
  {
   "cell_type": "code",
   "execution_count": 72,
   "id": "da609944",
   "metadata": {},
   "outputs": [
    {
     "name": "stdout",
     "output_type": "stream",
     "text": [
      "I remember! Your name is Sriraj!\n"
     ]
    }
   ],
   "source": [
    "response=graph_with_tools.invoke({\"messages\":\"Hii do you  remember my name?\"},config=config)\n",
    "print(response[\"messages\"][-1].content)"
   ]
  },
  {
   "cell_type": "code",
   "execution_count": null,
   "id": "4a04f142",
   "metadata": {},
   "outputs": [],
   "source": []
  }
 ],
 "metadata": {
  "kernelspec": {
   "display_name": ".venv",
   "language": "python",
   "name": "python3"
  },
  "language_info": {
   "codemirror_mode": {
    "name": "ipython",
    "version": 3
   },
   "file_extension": ".py",
   "mimetype": "text/x-python",
   "name": "python",
   "nbconvert_exporter": "python",
   "pygments_lexer": "ipython3",
   "version": "3.12.7"
  }
 },
 "nbformat": 4,
 "nbformat_minor": 5
}
